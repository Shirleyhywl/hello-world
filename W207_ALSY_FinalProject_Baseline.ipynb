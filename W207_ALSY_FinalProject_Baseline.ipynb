{
  "nbformat": 4,
  "nbformat_minor": 0,
  "metadata": {
    "colab": {
      "name": "W207_ALSY_FinalProject_Baseline.ipynb",
      "version": "0.3.2",
      "provenance": [],
      "collapsed_sections": [],
      "include_colab_link": true
    },
    "kernelspec": {
      "name": "python3",
      "display_name": "Python 3"
    }
  },
  "cells": [
    {
      "cell_type": "markdown",
      "metadata": {
        "id": "view-in-github",
        "colab_type": "text"
      },
      "source": [
        "<a href=\"https://colab.research.google.com/github/Shirleyhywl/hello-world/blob/master/W207_ALSY_FinalProject_Baseline.ipynb\" target=\"_parent\"><img src=\"https://colab.research.google.com/assets/colab-badge.svg\" alt=\"Open In Colab\"/></a>"
      ]
    },
    {
      "cell_type": "markdown",
      "metadata": {
        "id": "b9V1hXKgnTnQ",
        "colab_type": "text"
      },
      "source": [
        "# **Data and Plan**\n",
        "## **1. From Kaggle**\n",
        "Each predicted keypoint is specified by an (x,y) real-valued pair in the space of pixel indices. There are 15 keypoints, which represent the following elements of the face:\n",
        "\n",
        "left_eye_center\n",
        "right_eye_center\n",
        "left_eye_inner_corner\n",
        "left_eye_outer_corner\n",
        "right_eye_inner_corner\n",
        "right_eye_outer_corner\n",
        "left_eyebrow_inner_end\n",
        "left_eyebrow_outer_end\n",
        "right_eyebrow_inner_end\n",
        "right_eyebrow_outer_end\n",
        "nose_tip\n",
        "mouth_left_corner\n",
        "mouth_right_corner\n",
        "mouth_center_top_lip\n",
        "mouth_center_bottom_lip\n",
        "\n",
        "Left and right here refers to the point of view of the subject.\n",
        "\n",
        "In some examples, some of the target keypoint positions are missing (encoded as missing entries in the csv, i.e., with nothing between two commas).\n",
        "\n",
        "The input image is given in the last field of the data files, and consists of a list of pixels (ordered by row), as integers in (0,255). The images are 96x96 pixels.\n",
        "\n",
        "### ***Data files***\n",
        "training.csv: list of training 7049 images. Each row contains the (x,y) coordinates for 15 keypoints, and image data as row-ordered list of pixels.\n",
        "test.csv: list of 1783 test images. Each row contains ImageId and image data as row-ordered list of pixels\n",
        "submissionFileFormat.csv: list of 27124 keypoints to predict. Each row contains a RowId, ImageId, FeatureName, Location. FeatureName are \"left_eye_center_x,\" \"right_eyebrow_outer_end_y,\" etc. Location is what you need to predict."
      ]
    },
    {
      "cell_type": "markdown",
      "metadata": {
        "id": "1nqq3gpbnYox",
        "colab_type": "text"
      },
      "source": [
        "classify\n",
        "## **2. Plan**\n",
        "Data Cleaning\n",
        "​\n",
        "TBD based on the tutorial\n",
        "Split data - use training set and split into train, dev and test.\n",
        "​\n",
        "kNN; MN Naive Bayes; Logistic Regression --> run and compare as base\n",
        "​\n",
        "Maybe run\n",
        "​\n",
        "Then learn and run Neural Net to classify"
      ]
    },
    {
      "cell_type": "markdown",
      "metadata": {
        "id": "2PXOYpA7ncLW",
        "colab_type": "text"
      },
      "source": [
        "due\n",
        "​\n",
        "## **3. Baseline**\n",
        "Due Week 10: (July 8)\n",
        "​\n",
        "Plan for project\n",
        "Do Tutorial\n",
        "EDA / Cleaning\n",
        "More detailed plan around project (maybe a pseudocode type plan)\n",
        "check out Google colab\n",
        "Theano - install\n",
        "Week 11/12 -\n",
        "​\n",
        "Week 12 - Checkin with Instructor\n",
        "​\n",
        "Week 14 - Project due\n",
        "3. Baseline\n",
        "Due Week 10: (July 8)\n",
        "\n",
        "Plan for project Do Tutorial EDA / Cleaning More detailed plan around project (maybe a pseudocode type plan) check out Google colab Theano - install Week 11/12 -\n",
        "\n",
        "Week 12 - Checkin with Instructor\n",
        "\n"
      ]
    }
  ]
}