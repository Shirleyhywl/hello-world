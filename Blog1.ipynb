{
  "nbformat": 4,
  "nbformat_minor": 0,
  "metadata": {
    "colab": {
      "name": "Blog.ipynb",
      "version": "0.3.2",
      "provenance": [],
      "include_colab_link": true
    },
    "kernelspec": {
      "name": "python3",
      "display_name": "Python 3"
    }
  },
  "cells": [
    {
      "cell_type": "markdown",
      "metadata": {
        "id": "view-in-github",
        "colab_type": "text"
      },
      "source": [
        "<a href=\"https://colab.research.google.com/github/Shirleyhywl/hello-world/blob/master/Blog1.ipynb\" target=\"_parent\"><img src=\"https://colab.research.google.com/assets/colab-badge.svg\" alt=\"Open In Colab\"/></a>"
      ]
    },
    {
      "cell_type": "markdown",
      "metadata": {
        "id": "lCc_WI8N_ovd",
        "colab_type": "text"
      },
      "source": [
        "# **Big Medical Data, Big Ethics**\n",
        "\n",
        "The collection and usage of personal medical and health data has  come under increased scrutiny recently with technology and medical development. Obviously, most medical scientists increasingly want patients to donate massive amounts of sensitivity personal information  for study such as  the complex sets of factors causing SCA and determing survival. However, privacy protection and ethical medical research become a big concern due to difficulties in data flow control with hidden network of patient data distribution by healthcare organizations and their third-party vendors. How to balance protecting patients' data with the benefits that big data brings to medical research becomes a popular topics and increase public attention.\n",
        "\n",
        "\n",
        "\n",
        "## **Potential Risks of Personal Medical Data**\n",
        "Receiving notice letter of data breach or spam call for asking payment of medical statement makes people scared and helpless. Recently, I received a notice letter of a data privacy incident involving Retrieval-Masters Creditors Bureau Inc. doing business as American Medical Collection Agency. The security compromise of company's payments page from an independent third-party compliance firms affected millions of Quest Diagnostics Inc. customers. Based on an external forensics review, that an unathourized user had access to companies system between August 1,2018 and March 30, 2019, and the hackers had 8 full months to gather personal information including first and last name, SSN, band account information name of lab or medical service provider, data of medical service, referring doctor, certain other medical information. Upwards of 20M customers of Quest Diagnostics and Laboratory Corporation of America had their data stolen.\n",
        "\n",
        "This shocked news  bring me to more consideration and concern about my personal medical data and information. I had two questions on top of mind when I received this letter:\n",
        "\n",
        "\n",
        "*   Am I asked for consent to share data with this company? Obviously, the answer is ***NO***! I never gives the right to share any data with this company. After the reaserch online, I realize that my blood sample was sent to the medical lab by my HCP and this company collects receivalbes for medical labs. \n",
        "*  How do I prevent this data privacy incident in the future? Definitely, it is ***hard***!  When I was asked for blood test by my doctor, I lost autonomy to choose lab test company. What is worse, information is collected by third party agency without knowledge and consent. Therefore, I totally lost control of my personal medical data flow. \n",
        "\n",
        "This story indicates the huge hidden network of medical data distribution by healthcare organizations and their third-party vendors. When patients receive care at a healthcare provider (HCP) or organization (HCO), they don't have the autonomy to refuse passing data to bunch of unkonwn third-party venders, meaning that we can only opt out by not receiving any care or therapy from HCP and HCO. \n",
        "\n",
        "\n",
        "Further, nowadays big medical data is collected to help develop most important vaccines and cancer medications, gene mapping and cloning. Unfortunately, many research is performed with medical data without the consent from the data subject or clear explanation of potential harms and risks. The capacity for medical data from one individual not only have implications for that person's privacy but also allows you to learn their friends or families.  [The Henrietta Lacks story](https://www.hopkinsmedicine.org/henriettalacks/immortal-life-of-henrietta-lacks.html) tells us that the genome information can translate genetic information for both Henrietta Lacks and her descendants. Moreover, her medical records are released to the press and published without family's consent. Moreover, this genetic information can be stigmaizing for emplyers or health insurance providers to discriminate based on the collected information. A [sad story](https://www.entrepreneur.com/article/237732) about a divorce caused by 23andMe Predictive Relative Finder program also brings us a deep thinking about personal medical data protection for the family.\n",
        "\n",
        "\n",
        "In addition, \n",
        "\n",
        "\n",
        "## **Measures to Protect Privacy Data**\n",
        "https://www.bmj.com/content/353/bmj.i2452/rr-17\n",
        "https://www.advisory.com/daily-briefing/2018/07/18/personal-data\n",
        "https://www.advisory.com/research/health-care-advisory-board/multimedia/infographics/2018/how-to-be-a-cybersecurity-sentinel\n",
        "https://www.advisory.com/-/media/Advisory-com/Research/HCAB/Infographics/2018/36190-HCAB-Cybersecurity-Infographic.pdf\n",
        "https://blogs.biomedcentral.com/on-medicine/2018/09/13/big-data-big-ethics-handle-research-data-medical-emergency-settings/\n",
        "https://www.ama-assn.org/delivering-care/ethics/code-medical-ethics-privacy-confidentiality-medical-records\n",
        "https://www.bloomberg.com/news/articles/2019-06-17/american-medical-collection-agency-parent-files-for-bankruptcy"
      ]
    }
  ]
}